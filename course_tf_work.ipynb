{
 "cells": [
  {
   "cell_type": "markdown",
   "metadata": {},
   "source": [
    "# Course video implementation"
   ]
  },
  {
   "cell_type": "code",
   "execution_count": 1,
   "metadata": {},
   "outputs": [],
   "source": [
    "import tensorflow as tf\n",
    "import numpy as np"
   ]
  },
  {
   "cell_type": "code",
   "execution_count": 2,
   "metadata": {},
   "outputs": [
    {
     "name": "stdout",
     "output_type": "stream",
     "text": [
      "2.10.1\n"
     ]
    }
   ],
   "source": [
    "# find the version of tensorflow\n",
    "print(tf.__version__)"
   ]
  },
  {
   "cell_type": "code",
   "execution_count": 3,
   "metadata": {},
   "outputs": [
    {
     "name": "stdout",
     "output_type": "stream",
     "text": [
      "Num GPUs Available:  1\n"
     ]
    }
   ],
   "source": [
    "# check if tf is using GPU\n",
    "print(\"Num GPUs Available: \", len(tf.config.experimental.list_physical_devices('GPU'))) # 0 means no GPU is used"
   ]
  },
  {
   "cell_type": "code",
   "execution_count": 4,
   "metadata": {},
   "outputs": [
    {
     "name": "stdout",
     "output_type": "stream",
     "text": [
      "<tf.Variable 'Variable:0' shape=() dtype=float32, numpy=0.0>\n"
     ]
    }
   ],
   "source": [
    "w = tf.Variable(0, dtype=tf.float32) # w is a variable\n",
    "optimizer = tf.keras.optimizers.Adam(0.1) # choose the optimizer with learning rate 0.1\n",
    "\n",
    "# define the training step\n",
    "def train_step(): \n",
    "    with tf.GradientTape() as tape: # record the sequence of operations for automatic differentiation or gradient computation\n",
    "        cost = w ** 2 - 10 * w + 25 # cost function of w\n",
    "    trainable_variables = [w] \n",
    "    grads = tape.gradient(cost, trainable_variables)  # compute the gradient of the cost function with respect to w using gradient tape\n",
    "    optimizer.apply_gradients(zip(grads, trainable_variables)) # apply the gradient to the optimizer to update the variable w\n",
    "\n",
    "print(w)"
   ]
  },
  {
   "cell_type": "code",
   "execution_count": 5,
   "metadata": {},
   "outputs": [
    {
     "name": "stdout",
     "output_type": "stream",
     "text": [
      "<tf.Variable 'Variable:0' shape=() dtype=float32, numpy=0.10000295>\n"
     ]
    }
   ],
   "source": [
    "train_step()\n",
    "print(w)"
   ]
  },
  {
   "cell_type": "code",
   "execution_count": 6,
   "metadata": {},
   "outputs": [
    {
     "name": "stdout",
     "output_type": "stream",
     "text": [
      "<tf.Variable 'Variable:0' shape=() dtype=float32, numpy=5.0000014>\n"
     ]
    }
   ],
   "source": [
    "# train for several steps\n",
    "for i in range(1000):\n",
    "    train_step()\n",
    "print(w)"
   ]
  },
  {
   "cell_type": "code",
   "execution_count": 7,
   "metadata": {},
   "outputs": [
    {
     "name": "stdout",
     "output_type": "stream",
     "text": [
      "<tf.Variable 'Variable:0' shape=() dtype=float32, numpy=5.0000014>\n"
     ]
    }
   ],
   "source": [
    "# use X in the cost function\n",
    "w = tf.Variable(0, dtype=tf.float32)\n",
    "x = np.array([1.0, -10.0, 25.0], dtype=float) # X is a numpy array of 3 features\n",
    "optimizer = tf.keras.optimizers.Adam(0.1)\n",
    "\n",
    "# define the training step\n",
    "def training(x, w, optimizer):\n",
    "    # define the cost function\n",
    "    def cost_fn():\n",
    "        return x[0] * w ** 2 + x[1] * w + x[2]\n",
    "    # carry out the iterations for training\n",
    "    for i in range(1000):\n",
    "        # you're minimizing the cost function 1000 times\n",
    "        # basically you take 1000 steps to reach the minimum\n",
    "        # so, you update the value of w 1000 times\n",
    "        # minimize using gradient tape\n",
    "        with tf.GradientTape() as tape:\n",
    "            cost = cost_fn()\n",
    "        trainable_variables = [w]\n",
    "        grads = tape.gradient(cost, trainable_variables)\n",
    "        optimizer.apply_gradients(zip(grads, trainable_variables))\n",
    "    return w\n",
    "\n",
    "w = training(x, w, optimizer)\n",
    "print(w) # the optimal value of w"
   ]
  },
  {
   "cell_type": "code",
   "execution_count": null,
   "metadata": {},
   "outputs": [],
   "source": []
  }
 ],
 "metadata": {
  "kernelspec": {
   "display_name": "dl_basics",
   "language": "python",
   "name": "python3"
  },
  "language_info": {
   "codemirror_mode": {
    "name": "ipython",
    "version": 3
   },
   "file_extension": ".py",
   "mimetype": "text/x-python",
   "name": "python",
   "nbconvert_exporter": "python",
   "pygments_lexer": "ipython3",
   "version": "3.9.18"
  }
 },
 "nbformat": 4,
 "nbformat_minor": 2
}
