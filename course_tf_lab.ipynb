{
 "cells": [
  {
   "cell_type": "code",
   "execution_count": 2,
   "metadata": {},
   "outputs": [],
   "source": [
    "import tensorflow as tf\n",
    "import numpy as np"
   ]
  },
  {
   "cell_type": "code",
   "execution_count": 3,
   "metadata": {},
   "outputs": [
    {
     "name": "stdout",
     "output_type": "stream",
     "text": [
      "2.10.1\n",
      "Num GPUs Available:  1\n"
     ]
    }
   ],
   "source": [
    "# find the version of tensorflow\n",
    "print(tf.__version__)\n",
    "\n",
    "# check if tf is using GPU\n",
    "print(\"Num GPUs Available: \", len(tf.config.experimental.list_physical_devices('GPU'))) # 0 means no GPU is used"
   ]
  },
  {
   "cell_type": "markdown",
   "metadata": {},
   "source": [
    "# Learning the basics of tensorflow - from BOOK"
   ]
  },
  {
   "cell_type": "code",
   "execution_count": 4,
   "metadata": {},
   "outputs": [
    {
     "data": {
      "text/plain": [
       "<tf.Tensor: shape=(2, 3), dtype=int32, numpy=\n",
       "array([[1, 2, 3],\n",
       "       [4, 5, 6]])>"
      ]
     },
     "execution_count": 4,
     "metadata": {},
     "output_type": "execute_result"
    }
   ],
   "source": [
    "# 1. Tensor: multi-dimensional array (also can hold scalar vals) which flow from operation to operation, hence the name TensorFlow\n",
    "# create a tensor using tf.constant\n",
    "\n",
    "tf.constant([[1, 2, 3], \n",
    "             [4, 5, 6]])"
   ]
  },
  {
   "cell_type": "code",
   "execution_count": 5,
   "metadata": {},
   "outputs": [
    {
     "data": {
      "text/plain": [
       "<tf.Tensor: shape=(), dtype=int32, numpy=42>"
      ]
     },
     "execution_count": 5,
     "metadata": {},
     "output_type": "execute_result"
    }
   ],
   "source": [
    "# scalar tensor\n",
    "tf.constant(42) # scalar tensor"
   ]
  },
  {
   "cell_type": "code",
   "execution_count": 6,
   "metadata": {},
   "outputs": [
    {
     "data": {
      "text/plain": [
       "<tf.Tensor: shape=(2, 2), dtype=int32, numpy=\n",
       "array([[2, 3],\n",
       "       [5, 6]])>"
      ]
     },
     "execution_count": 6,
     "metadata": {},
     "output_type": "execute_result"
    }
   ],
   "source": [
    "# 2. Indexing tensors\n",
    "t = tf.constant([[1, 2, 3],\n",
    "                [4, 5, 6]])\n",
    "t[:, 1:] # all rows, all columns except the first column\n"
   ]
  },
  {
   "cell_type": "code",
   "execution_count": 7,
   "metadata": {},
   "outputs": [
    {
     "data": {
      "text/plain": [
       "<tf.Tensor: shape=(2, 1), dtype=int32, numpy=\n",
       "array([[2],\n",
       "       [5]])>"
      ]
     },
     "execution_count": 7,
     "metadata": {},
     "output_type": "execute_result"
    }
   ],
   "source": [
    "t[..., 1, tf.newaxis] # all rows(...), second column(1), but with an extra dimension(newaxis)"
   ]
  },
  {
   "cell_type": "code",
   "execution_count": 8,
   "metadata": {},
   "outputs": [
    {
     "name": "stdout",
     "output_type": "stream",
     "text": [
      "addition\n",
      "tf.Tensor(\n",
      "[[11 12 13]\n",
      " [14 15 16]], shape=(2, 3), dtype=int32)\n",
      "\n",
      "multiplication\n",
      "tf.Tensor(\n",
      "[[10 20 30]\n",
      " [40 50 60]], shape=(2, 3), dtype=int32)\n",
      "\n",
      "squaring\n",
      "tf.Tensor(\n",
      "[[ 1  4  9]\n",
      " [16 25 36]], shape=(2, 3), dtype=int32)\n",
      "\n",
      "transpose\n",
      "tf.Tensor(\n",
      "[[1 4]\n",
      " [2 5]\n",
      " [3 6]], shape=(3, 2), dtype=int32)\n"
     ]
    }
   ],
   "source": [
    "# 3. Operations on tensors\n",
    "# addition\n",
    "print(\"addition\") \n",
    "print(t+10)  # equals to tf.add(t, 10)\n",
    "\n",
    "# multiplication\n",
    "print(\"\\nmultiplication\")\n",
    "print(t*10) # equals to tf.multiply(t, 10)\n",
    "\n",
    "# squaring\n",
    "print(\"\\nsquaring\")\n",
    "print(tf.square(t)) # equals to t*t\n",
    "\n",
    "# transpose\n",
    "print(\"\\ntranspose\")\n",
    "print(tf.transpose(t)) \n",
    "\n",
    "# other operations\n",
    "# tf.square, tf.sqrt, tf.exp, tf.log, tf.matmul, tf.reduce_mean, tf.reduce_sum, tf.argmax"
   ]
  },
  {
   "cell_type": "code",
   "execution_count": 9,
   "metadata": {},
   "outputs": [
    {
     "name": "stdout",
     "output_type": "stream",
     "text": [
      "tf.Tensor(\n",
      "[[1 2 3]\n",
      " [4 5 6]], shape=(2, 3), dtype=int32)\n",
      "\n",
      "sum along the columns\n",
      "tf.Tensor([5 7 9], shape=(3,), dtype=int32)\n"
     ]
    }
   ],
   "source": [
    "# 4. similar numpy operations\n",
    "# we have tf.reshape, tf.squeeze, tf.tile, tf.reduce_mean, tf.reduce_sum, tf.reduce_max, tf.argmax, tf.argmin, tf.math.log\n",
    "\n",
    "# tf.reduce_sum() - sums all elements in a tensor, its gpu implementation uses a reduce algorithm that does not guarantee the order of the elements.\n",
    "t_sum = tf.reduce_sum(t, axis=0) # sum along the columns\n",
    "print(t)\n",
    "print(\"\\nsum along the columns\")\n",
    "print(t_sum)"
   ]
  },
  {
   "cell_type": "code",
   "execution_count": 10,
   "metadata": {},
   "outputs": [
    {
     "name": "stdout",
     "output_type": "stream",
     "text": [
      "\n",
      "np array to tensor\n",
      "tf.Tensor([1 2 3], shape=(3,), dtype=int32)\n",
      "\n",
      "tensor to np array\n",
      "[1 2 3]\n"
     ]
    }
   ],
   "source": [
    "# 5. tensorflow and numpy - they play beautifully together\n",
    "\n",
    "# np array to tensor\n",
    "np_array = np.array([1, 2, 3])\n",
    "tensor = tf.constant(np_array)\n",
    "print(\"\\nnp array to tensor\")\n",
    "print(tensor)\n",
    "\n",
    "# tensor to np array\n",
    "np_array = np.array(tensor)\n",
    "print(\"\\ntensor to np array\")\n",
    "print(np_array)"
   ]
  },
  {
   "cell_type": "code",
   "execution_count": 11,
   "metadata": {},
   "outputs": [],
   "source": [
    "# NOTE: Numpy uses 64-bit precision by default, while TensorFlow uses 32-bit. This is because 32-bit precision is more than enough for neural networks, plus it runs faster and uses less memory.\n",
    "\n",
    "# NOTE: Tensor datatype is immutable - can't be modified after creation. So, we need to use other type for weights and biases in neural networks."
   ]
  },
  {
   "cell_type": "code",
   "execution_count": 12,
   "metadata": {},
   "outputs": [
    {
     "data": {
      "text/plain": [
       "<tf.Tensor: shape=(), dtype=float32, numpy=42.0>"
      ]
     },
     "execution_count": 12,
     "metadata": {},
     "output_type": "execute_result"
    }
   ],
   "source": [
    "# 6. Type conversions\n",
    "# you can't perform operations on tensors with different datatypes\n",
    "# tf.cast() - converts the datatype of a tensor\n",
    "\n",
    "# tf.constant(2.) + tf.constant(40) # this will throw an error\n",
    "\n",
    "t1 = tf.constant(2.)\n",
    "t2 = tf.constant(40)\n",
    "# convert the int tensor to float\n",
    "t1 + tf.cast(t2 , dtype=tf.float32) # this will work"
   ]
  },
  {
   "cell_type": "code",
   "execution_count": 13,
   "metadata": {},
   "outputs": [
    {
     "name": "stdout",
     "output_type": "stream",
     "text": [
      "\n",
      "variable after assign\n",
      "<tf.Variable 'Variable:0' shape=(2, 3) dtype=float32, numpy=\n",
      "array([[ 29.,  58.,  87.],\n",
      "       [116., 145., 174.]], dtype=float32)>\n",
      "\n",
      "variable after assign_sub\n",
      "<tf.Variable 'Variable:0' shape=(2, 3) dtype=float32, numpy=\n",
      "array([[ 28.,  57.,  86.],\n",
      "       [115., 144., 173.]], dtype=float32)>\n",
      "\n",
      "variable after assign_add\n",
      "<tf.Variable 'Variable:0' shape=(2, 3) dtype=float32, numpy=\n",
      "array([[ 29.,  58.,  87.],\n",
      "       [116., 145., 174.]], dtype=float32)>\n"
     ]
    }
   ],
   "source": [
    "# 7. Variables\n",
    "# variables are mutable tensors that can be changed in place using assign() method.\n",
    "\n",
    "var = tf.Variable([[1., 2., 3.], [4., 5., 6.]])\n",
    "\n",
    "# assign a new value to a variable\n",
    "var.assign(29*var)\n",
    "print(\"\\nvariable after assign\")\n",
    "print(var)\n",
    "\n",
    "# assign_add() and assign_sub() methods\n",
    "var.assign_sub([[1, 1, 1], [1, 1, 1]])\n",
    "print(\"\\nvariable after assign_sub\")\n",
    "print(var)\n",
    "\n",
    "var.assign_add([[1, 1, 1], [1, 1, 1]])\n",
    "print(\"\\nvariable after assign_add\")\n",
    "print(var)"
   ]
  },
  {
   "cell_type": "code",
   "execution_count": 14,
   "metadata": {},
   "outputs": [
    {
     "data": {
      "text/plain": [
       "<tf.Variable 'UnreadVariable' shape=(2, 3) dtype=int32, numpy=\n",
       "array([[100,   2,   3],\n",
       "       [  4,   5, 200]])>"
      ]
     },
     "execution_count": 14,
     "metadata": {},
     "output_type": "execute_result"
    }
   ],
   "source": [
    "# scatter_nd_update() - updates specific elements of a tensor\n",
    "# give the indices of the elements to update and the new values\n",
    "\n",
    "t = tf.Variable([[1, 2, 3], [4, 5, 6]])\n",
    "t.scatter_nd_update(indices=[[0, 0], [1, 2]], updates=[100, 200])"
   ]
  }
 ],
 "metadata": {
  "kernelspec": {
   "display_name": "tf_gpu",
   "language": "python",
   "name": "python3"
  },
  "language_info": {
   "codemirror_mode": {
    "name": "ipython",
    "version": 3
   },
   "file_extension": ".py",
   "mimetype": "text/x-python",
   "name": "python",
   "nbconvert_exporter": "python",
   "pygments_lexer": "ipython3",
   "version": "3.9.18"
  }
 },
 "nbformat": 4,
 "nbformat_minor": 2
}
