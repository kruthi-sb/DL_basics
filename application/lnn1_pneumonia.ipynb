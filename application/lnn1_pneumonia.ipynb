{
 "cells": [
  {
   "cell_type": "code",
   "execution_count": 7,
   "metadata": {},
   "outputs": [],
   "source": [
    "import tensorflow as tf\n",
    "import numpy as np\n",
    "import matplotlib.pyplot as plt\n",
    "import pandas as pd\n",
    "import os\n",
    "import cv2"
   ]
  },
  {
   "cell_type": "code",
   "execution_count": 8,
   "metadata": {},
   "outputs": [
    {
     "name": "stdout",
     "output_type": "stream",
     "text": [
      "c:\\Users\\kruth\\OneDrive\\Desktop\\DL_basics\\application\n",
      "c:\\Users\\kruth\\OneDrive\\Desktop\\DL_basics\n",
      "c:\\Users\\kruth\\OneDrive\\Desktop\\DL_basics\\application\n"
     ]
    }
   ],
   "source": [
    "# go one step back in directorY\n",
    "import os\n",
    "print(os.getcwd())\n",
    "os.chdir(\"..\")\n",
    "# check the current directory\n",
    "print(os.getcwd())\n",
    "from deep_nn import l_layer_nn as lnn\n",
    "# go one step ahead in directory\n",
    "os.chdir(\"application\")\n",
    "print(os.getcwd()) "
   ]
  },
  {
   "cell_type": "code",
   "execution_count": 9,
   "metadata": {},
   "outputs": [],
   "source": [
    "# Define directories\n",
    "train_dir = \"C:\\\\Users\\\\kruth\\\\Datasets\\\\DL_Basics\\\\Pneumonia\\\\archive\\\\chest_xray\\\\train\"\n",
    "validation_dir = \"C:\\\\Users\\\\kruth\\\\Datasets\\\\DL_Basics\\\\Pneumonia\\\\archive\\\\chest_xray\\\\val\"\n",
    "test_dir = \"C:\\\\Users\\\\kruth\\\\Datasets\\\\DL_Basics\\\\Pneumonia\\\\archive\\\\chest_xray\\\\test\"\n",
    "\n",
    "# Function to load images and labels\n",
    "def load_images_from_directory(directory):\n",
    "    images = []\n",
    "    labels = []\n",
    "    for label in os.listdir(directory):\n",
    "        label_dir = os.path.join(directory, label)\n",
    "        for image_file in os.listdir(label_dir):\n",
    "            image_path = os.path.join(label_dir, image_file)\n",
    "            # Read image using OpenCV\n",
    "            image = cv2.imread(image_path)\n",
    "            # Resize image to a consistent size (e.g., 150x150)\n",
    "            image = cv2.resize(image, (64, 64))\n",
    "            # Normalize pixel values to the range [0, 1]\n",
    "            image = image / 255.0\n",
    "            # Append image and label to lists\n",
    "            images.append(image)\n",
    "            labels.append(1 if label == 'PNEUMONIA' else 0)  # Assign label based on folder name\n",
    "    return np.array(images), np.array(labels)"
   ]
  },
  {
   "cell_type": "code",
   "execution_count": 10,
   "metadata": {},
   "outputs": [],
   "source": [
    "# Load training images and labels\n",
    "X_train_orig, y_train_orig = load_images_from_directory(train_dir)\n",
    "# Load validation images and labels\n",
    "X_val_orig, y_val_orig = load_images_from_directory(validation_dir)\n",
    "# Load test images and labels\n",
    "X_test_orig, y_test_orig = load_images_from_directory(test_dir)"
   ]
  },
  {
   "cell_type": "code",
   "execution_count": null,
   "metadata": {},
   "outputs": [
    {
     "name": "stdout",
     "output_type": "stream",
     "text": [
      "Shape of X_train: (5216, 64, 64, 3)\n",
      "Shape of y_train: (5216,)\n",
      "Shape of X_val: (16, 64, 64, 3)\n",
      "Shape of y_val: (16,)\n",
      "Shape of X_test: (624, 64, 64, 3)\n",
      "Shape of y_test: (624,)\n"
     ]
    }
   ],
   "source": [
    "# Print shape of the arrays\n",
    "print(\"Shape of X_train:\", X_train_orig.shape)\n",
    "print(\"Shape of y_train:\", y_train_orig.shape)\n",
    "print(\"Shape of X_val:\", X_val_orig.shape)\n",
    "print(\"Shape of y_val:\", y_val_orig.shape)\n",
    "print(\"Shape of X_test:\", X_test_orig.shape)\n",
    "print(\"Shape of y_test:\", y_test_orig.shape)"
   ]
  },
  {
   "cell_type": "code",
   "execution_count": 15,
   "metadata": {},
   "outputs": [
    {
     "data": {
      "image/png": "[encoded data removed]",
      "text/plain": [
       "<Figure size 640x480 with 1 Axes>"
      ]
     },
     "metadata": {},
     "output_type": "display_data"
    }
   ],
   "source": [
    "# show a sample image and label\n",
    "index = 5201\n",
    "plt.imshow(X_train_orig[index])\n",
    "plt.title(\"Label: \" + str(y_train_orig[index]))\n",
    "plt.show()"
   ]
  },
  {
   "cell_type": "code",
   "execution_count": 16,
   "metadata": {},
   "outputs": [
    {
     "name": "stdout",
     "output_type": "stream",
     "text": [
      "Shape of X_train: (12288, 5216)\n",
      "Shape of y_train: (1, 5216)\n",
      "Shape of X_val: (12288, 16)\n",
      "Shape of y_val: (1, 16)\n",
      "Shape of X_test: (12288, 624)\n",
      "Shape of y_test: (1, 624)\n"
     ]
    }
   ],
   "source": [
    "# flatten the X_train, X_val, X_test\n",
    "X_train = X_train_orig.reshape(X_train_orig.shape[0], -1).T\n",
    "X_val = X_val_orig.reshape(X_val_orig.shape[0], -1).T\n",
    "X_test = X_test_orig.reshape(X_test_orig.shape[0], -1).T\n",
    "\n",
    "# transpose the y_train, y_val, y_test and keep it in the same shape\n",
    "y_train = y_train_orig.reshape(1, -1)\n",
    "y_val = y_val_orig.reshape(1, -1)\n",
    "y_test = y_test_orig.reshape(1, -1)\n",
    "\n",
    "# print final shape of the arrays\n",
    "print(\"Shape of X_train:\", X_train.shape)\n",
    "print(\"Shape of y_train:\", y_train.shape)\n",
    "print(\"Shape of X_val:\", X_val.shape)\n",
    "print(\"Shape of y_val:\", y_val.shape)\n",
    "print(\"Shape of X_test:\", X_test.shape)\n",
    "print(\"Shape of y_test:\", y_test.shape)"
   ]
  },
  {
   "cell_type": "code",
   "execution_count": 17,
   "metadata": {},
   "outputs": [],
   "source": [
    "\"\"\"# store data in csv files\n",
    "np.savetxt(\"data/X_train.csv\", X_train, delimiter=\",\")\n",
    "np.savetxt(\"data/y_train.csv\", y_train, delimiter=\",\")\n",
    "np.savetxt(\"data/X_val.csv\", X_val, delimiter=\",\")\n",
    "np.savetxt(\"data/y_val.csv\", y_val, delimiter=\",\")\n",
    "np.savetxt(\"data/X_test.csv\", X_test, delimiter=\",\")\n",
    "np.savetxt(\"data/y_test.csv\", y_test, delimiter=\",\")\"\"\""
   ]
  },
  {
   "cell_type": "code",
   "execution_count": 18,
   "metadata": {},
   "outputs": [],
   "source": [
    "# define architecture of the model\n",
    "layers_dims = [X_train.shape[0], 20, 7, 5, 1]"
   ]
  },
  {
   "cell_type": "code",
   "execution_count": 19,
   "metadata": {},
   "outputs": [
    {
     "name": "stdout",
     "output_type": "stream",
     "text": [
      "Cost after iteration 0: 0.6118088105903126\n",
      "Cost after iteration 100: 0.5733133357528698\n",
      "Cost after iteration 199: 0.5699949435315539\n"
     ]
    }
   ],
   "source": [
    "parameters, cost = lnn.L_layer_model(X_train, y_train, layers_dims, learning_rate = 0.1, num_iterations = 200, print_cost=True)"
   ]
  },
  {
   "cell_type": "code",
   "execution_count": 20,
   "metadata": {},
   "outputs": [
    {
     "name": "stdout",
     "output_type": "stream",
     "text": [
      "Accuracy: 0.7429064417177914\n",
      "Accuracy: 0.5\n",
      "Accuracy: 0.6249999999999999\n"
     ]
    }
   ],
   "source": [
    "# predict the train, validation and test set\n",
    "pred_train = lnn.predict(X_train, y_train, parameters)\n",
    "pred_val = lnn.predict(X_val, y_val, parameters)\n",
    "pred_test = lnn.predict(X_test, y_test, parameters)"
   ]
  }
 ],
 "metadata": {
  "kernelspec": {
   "display_name": "tf_gpu",
   "language": "python",
   "name": "python3"
  },
  "language_info": {
   "codemirror_mode": {
    "name": "ipython",
    "version": 3
   },
   "file_extension": ".py",
   "mimetype": "text/x-python",
   "name": "python",
   "nbconvert_exporter": "python",
   "pygments_lexer": "ipython3",
   "version": "3.9.18"
  }
 },
 "nbformat": 4,
 "nbformat_minor": 2
}
